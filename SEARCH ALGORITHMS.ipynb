{
 "cells": [
  {
   "cell_type": "markdown",
   "id": "3faac6ff",
   "metadata": {},
   "source": [
    "# SEARCH ALGORITHM"
   ]
  },
  {
   "cell_type": "markdown",
   "id": "5716ce96",
   "metadata": {},
   "source": [
    "# LINEAR SEARCH"
   ]
  },
  {
   "cell_type": "markdown",
   "id": "ca886da2",
   "metadata": {},
   "source": [
    "the following is the brute force method which uses 0(n)"
   ]
  },
  {
   "cell_type": "code",
   "execution_count": 5,
   "id": "1396278e",
   "metadata": {},
   "outputs": [
    {
     "name": "stdout",
     "output_type": "stream",
     "text": [
      "Enter the list: \n",
      "enter the key8\n"
     ]
    },
    {
     "data": {
      "text/plain": [
       "'list is empty'"
      ]
     },
     "execution_count": 5,
     "metadata": {},
     "output_type": "execute_result"
    }
   ],
   "source": [
    "def search(list1,key):\n",
    "    if not list1 :\n",
    "        return \"list is empty\"\n",
    "    for i in range(len(list1)):\n",
    "        if list1[i] == key:\n",
    "            return f\"the index we have key is :{i}\"\n",
    "    return \"key is not found\"\n",
    "numbers = list(map(int, input(\"Enter the list: \").split()))\n",
    "key = int(input(\"enter the key\"))\n",
    "search(numbers,key)"
   ]
  },
  {
   "cell_type": "markdown",
   "id": "fca43dc2",
   "metadata": {},
   "source": [
    "# BINARY SEARCH"
   ]
  },
  {
   "cell_type": "code",
   "execution_count": 1,
   "id": "732363bb",
   "metadata": {},
   "outputs": [
    {
     "name": "stdout",
     "output_type": "stream",
     "text": [
      "Enter the list: 1 2 3 4 5\n",
      "enter the key2\n"
     ]
    },
    {
     "data": {
      "text/plain": [
       "'the element is found at 1'"
      ]
     },
     "execution_count": 1,
     "metadata": {},
     "output_type": "execute_result"
    }
   ],
   "source": [
    "def binary_search(list1,key):\n",
    "    if not list1 :\n",
    "        return \"list is empty\"\n",
    "    first = 0\n",
    "    last = len(list1) - 1\n",
    "  \n",
    "    while first <= last:\n",
    "        mid = (first + last)//2\n",
    "        if list1[mid] == key:\n",
    "            return f\"the element is found at {mid}\"\n",
    "        elif key < list1[mid]:\n",
    "            last = mid - 1\n",
    "        else key > list1[mid]:\n",
    "            first = mid + 1\n",
    "    return \"element is not in list\"\n",
    "numbers = list(map(int, input(\"Enter the list: \").split()))\n",
    "key = int(input(\"enter the key\"))\n",
    "binary_search(numbers,key)"
   ]
  },
  {
   "cell_type": "markdown",
   "id": "44b7cf59",
   "metadata": {},
   "source": [
    "# APPLICATIONS USING BINARY SEARCH"
   ]
  },
  {
   "cell_type": "markdown",
   "id": "f904dd95",
   "metadata": {},
   "source": [
    "https://leetcode.com/discuss/general-discussion/786126/Python-Powerful-Ultimate-Binary-Search-Template.-Solved-many-problems"
   ]
  },
  {
   "cell_type": "markdown",
   "id": "06a5c535",
   "metadata": {},
   "source": [
    "You are a product manager and currently leading a team to develop a new product. Since each version is developed based on the previous version, all the versions after a bad version are also bad. Suppose you have n versions [1, 2, ..., n] and you want to find out the first bad one, which causes all the following ones to be bad. You are given an API bool isBadVersion(version) which will return whether version is bad"
   ]
  },
  {
   "cell_type": "code",
   "execution_count": null,
   "id": "5f212f95",
   "metadata": {},
   "outputs": [],
   "source": []
  }
 ],
 "metadata": {
  "kernelspec": {
   "display_name": "Python 3 (ipykernel)",
   "language": "python",
   "name": "python3"
  },
  "language_info": {
   "codemirror_mode": {
    "name": "ipython",
    "version": 3
   },
   "file_extension": ".py",
   "mimetype": "text/x-python",
   "name": "python",
   "nbconvert_exporter": "python",
   "pygments_lexer": "ipython3",
   "version": "3.9.7"
  }
 },
 "nbformat": 4,
 "nbformat_minor": 5
}
