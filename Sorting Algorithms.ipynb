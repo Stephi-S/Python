{
 "cells": [
  {
   "cell_type": "markdown",
   "id": "343eb6ac",
   "metadata": {},
   "source": [
    "## Bubble Sort"
   ]
  },
  {
   "cell_type": "markdown",
   "id": "a76dfbc8",
   "metadata": {},
   "source": [
    "Bubble Sort is a simple sorting algorithm that repeatedly compares adjacent elements and swaps them if they are in the wrong order. The process continues until the entire array is sorted.\n",
    "\n",
    "Algorithm Steps:\n",
    "Start from the first element and compare it with the next.\n",
    "If the first element is greater than the second, swap them.\n",
    "Move to the next pair and repeat step 2 for the entire array.\n",
    "The largest element moves to the end after each full pass.\n",
    "Repeat the process for the remaining elements until no swaps occur.\n",
    "Time Complexity:\n",
    "Best case (already sorted): O(n) → Uses a flag to detect early termination.\n",
    "Worst case (reverse sorted): O(n²) → Needs complete passes.\n",
    "Average case: O(n²)\n",
    "Space Complexity:\n",
    "O(1) (in-place sorting)\n"
   ]
  },
  {
   "cell_type": "code",
   "execution_count": 4,
   "id": "d0cf92f1",
   "metadata": {},
   "outputs": [
    {
     "data": {
      "text/plain": [
       "[-5, -3, -3, 1, 2, 2, 2, 3, 7]"
      ]
     },
     "execution_count": 4,
     "metadata": {},
     "output_type": "execute_result"
    }
   ],
   "source": [
    "# Bubble Sort\n",
    "# Time: O(n^2)\n",
    "# Space: O(1)\n",
    "\n",
    "A = [-5, 3, 2, 1, -3, -3, 7, 2, 2]\n",
    "def bubble(arr):\n",
    "    flag = True\n",
    "    n = len(arr)\n",
    "    while flag:\n",
    "        flag = False\n",
    "        for i in range(1,n):\n",
    "            if arr[i-1] > arr[i]:\n",
    "                flag = True\n",
    "                arr[i-1],arr[i] = arr[i],arr[i-1]\n",
    "    return arr\n",
    "bubble(A)"
   ]
  },
  {
   "cell_type": "markdown",
   "id": "6d21a440",
   "metadata": {},
   "source": [
    "## Insertion Sort"
   ]
  },
  {
   "cell_type": "markdown",
   "id": "3e10b7b6",
   "metadata": {},
   "source": [
    "Insertion Sort is a simple and efficient sorting algorithm that builds the sorted list one element at a time. It works by picking an element from the unsorted portion and placing it in its correct position in the sorted portion.\n",
    "\n",
    "Algorithm Steps:\n",
    "Start with the second element (index 1) and compare it with the previous elements.\n",
    "If the previous element is larger, shift it to the right.\n",
    "Continue shifting until you find the correct position for the current element.\n",
    "Repeat for all elements until the array is sorted.\n",
    "Time Complexity:\n",
    "Best case (Already Sorted): \n",
    "𝑂\n",
    "(\n",
    "𝑛\n",
    ")\n",
    "O(n)\n",
    "Worst/Average case: \n",
    "𝑂\n",
    "(\n",
    "𝑛\n",
    "2\n",
    ")\n",
    "O(n \n",
    "2\n",
    " )"
   ]
  },
  {
   "cell_type": "code",
   "execution_count": 5,
   "id": "d2bf50ed",
   "metadata": {},
   "outputs": [
    {
     "data": {
      "text/plain": [
       "[-5, -3, -3, 1, 2, 2, 2, 3, 7]"
      ]
     },
     "execution_count": 5,
     "metadata": {},
     "output_type": "execute_result"
    }
   ],
   "source": [
    "# Insertion Sort\n",
    "# Time: O(n^2)\n",
    "# Space: O(1)\n",
    "\n",
    "B = [-5, 3, 2, 1, -3, -3, 7, 2, 2]\n",
    "def insertion(arr):\n",
    "    n = len(arr)\n",
    "    for i in range(1,n):\n",
    "        for j in range(i,0,-1):\n",
    "            if arr[j-1] > arr[j]:\n",
    "                arr[j-1],arr[j] = arr[j],arr[j-1]\n",
    "            else:\n",
    "                break\n",
    "insertion(B)\n",
    "B"
   ]
  },
  {
   "cell_type": "markdown",
   "id": "b8d8aefc",
   "metadata": {},
   "source": [
    "## Selection sort"
   ]
  },
  {
   "cell_type": "markdown",
   "id": "57bbb820",
   "metadata": {},
   "source": [
    "Selection Sort is a simple sorting algorithm that repeatedly selects the smallest (or largest) element from the unsorted portion of the list and swaps it with the first element of the unsorted portion.\n",
    "\n",
    "Algorithm Steps:\n",
    "Find the smallest element in the unsorted part.\n",
    "Swap it with the first element of the unsorted part.\n",
    "Move the boundary of the sorted part one step forward.\n",
    "Repeat until the entire list is sorted.\n",
    "Time Complexity:\n",
    "Best, Worst, and Average case: \n",
    "𝑂\n",
    "(\n",
    "𝑛\n",
    "2\n",
    ")\n",
    "O(n \n",
    "2\n",
    " )\n",
    "Space Complexity: \n",
    "𝑂\n",
    "(\n",
    "1\n",
    ")\n",
    "O(1) (In-place sorting)"
   ]
  },
  {
   "cell_type": "code",
   "execution_count": 6,
   "id": "f61185fa",
   "metadata": {},
   "outputs": [
    {
     "data": {
      "text/plain": [
       "[-5, -3, -3, 1, 2, 2, 2, 3, 7]"
      ]
     },
     "execution_count": 6,
     "metadata": {},
     "output_type": "execute_result"
    }
   ],
   "source": [
    "# Selection Sort\n",
    "# Time: O(n^2)\n",
    "# Space: O(1)\n",
    "\n",
    "C = [-3, 3, 2, 1, -5, -3, 7, 2, 2]\n",
    "\n",
    "def selection(arr):\n",
    "    n = len(arr)\n",
    "    for i in range(n):\n",
    "        min_index= i\n",
    "        for j in range(i+1,n):\n",
    "            if arr[j] < arr[min_index]:\n",
    "                min_index = j\n",
    "        arr[i],arr[min_index] = arr[min_index],arr[i]\n",
    "selection(C)\n",
    "C"
   ]
  },
  {
   "cell_type": "markdown",
   "id": "652e3183",
   "metadata": {},
   "source": [
    "## Merge Sort"
   ]
  },
  {
   "cell_type": "markdown",
   "id": "14abdde5",
   "metadata": {},
   "source": [
    "Merge Sort is a divide and conquer algorithm that recursively splits an array into smaller subarrays, sorts them, and then merges them back together.\n",
    "\n",
    "Divide:\n",
    "\n",
    "If the array has 1 or 0 elements, return (base case).\n",
    "Otherwise, split the array into two halves (left and right).\n",
    "Conquer:\n",
    "\n",
    "Recursively sort both halves using Merge Sort.\n",
    "Merge:\n",
    "\n",
    "Merge the two sorted halves back into a single sorted array.\n",
    "Compare elements from both halves and insert the smaller element into the result.\n"
   ]
  },
  {
   "cell_type": "markdown",
   "id": "d63d4c17",
   "metadata": {},
   "source": [
    "🔹 Time Complexity\n",
    "Best Case: \n",
    "𝑂\n",
    "(\n",
    "𝑛\n",
    "log\n",
    "⁡\n",
    "𝑛\n",
    ")\n",
    "O(nlogn)\n",
    "Average Case: \n",
    "𝑂\n",
    "(\n",
    "𝑛\n",
    "log\n",
    "⁡\n",
    "𝑛\n",
    ")\n",
    "O(nlogn)\n",
    "Worst Case: \n",
    "𝑂\n",
    "(\n",
    "𝑛\n",
    "log\n",
    "⁡\n",
    "𝑛\n",
    ")\n",
    "O(nlogn)\n",
    "🚀 Why \n",
    "𝑂\n",
    "(\n",
    "𝑛\n",
    "log\n",
    "⁡\n",
    "𝑛\n",
    ")\n",
    "O(nlogn)?\n",
    "\n",
    "Splitting: Takes \n",
    "𝑂\n",
    "(\n",
    "log\n",
    "⁡\n",
    "𝑛\n",
    ")\n",
    "O(logn) because we keep dividing the array in half.\n",
    "Merging: Takes \n",
    "𝑂\n",
    "(\n",
    "𝑛\n",
    ")\n",
    "O(n) because we compare and merge elements.\n",
    "Total Complexity: \n",
    "𝑂\n",
    "(\n",
    "𝑛\n",
    "log\n",
    "⁡\n",
    "𝑛\n",
    ")\n",
    "O(nlogn)\n",
    "🔹 Space Complexity\n",
    "Merge Sort uses extra space for merging → \n",
    "𝑂\n",
    "(\n",
    "𝑛\n",
    ")\n",
    "O(n)\n",
    "Not an in-place sorting algorithm (unlike QuickSort).\n"
   ]
  },
  {
   "cell_type": "markdown",
   "id": "74e059e4",
   "metadata": {},
   "source": [
    "Splitting the Array (Recursive Calls)\n",
    "\n",
    "The recursion depth is \n",
    "𝑂\n",
    "(\n",
    "log\n",
    "⁡\n",
    "𝑛\n",
    ")\n",
    "O(logn) because we keep dividing the array in half.\n",
    "However, recursive function calls don’t store the entire array—only the function's stack frames.\n",
    "Merging Back (Temporary Arrays)\n",
    "\n",
    "At each level of recursion, we need a temporary array to merge two sorted halves.\n",
    "The largest temporary array will be at the final merge step, which holds all \n",
    "𝑛\n",
    "n elements"
   ]
  },
  {
   "cell_type": "code",
   "execution_count": 4,
   "id": "76121632",
   "metadata": {},
   "outputs": [
    {
     "data": {
      "text/plain": [
       "[-5, -3, -3, 1, 2, 2, 2, 3, 7]"
      ]
     },
     "execution_count": 4,
     "metadata": {},
     "output_type": "execute_result"
    }
   ],
   "source": [
    "# Merge Sort\n",
    "# Time: O(n log n)\n",
    "# Space: O(n) - Note: can be Log n, but this is harder to write\n",
    "\n",
    "\n",
    "D = [-5, 3, 2, 1, -3, -3, 7, 2, 2]\n",
    "def mergesort(arr):\n",
    "    n = len(arr)\n",
    "    if n == 1:\n",
    "        return arr\n",
    "    m = len(arr)//2\n",
    "    L = arr[:m]\n",
    "    R = arr[m:]\n",
    "    L = mergesort(L)\n",
    "    R = mergesort(R)\n",
    "    l = 0\n",
    "    r = 0\n",
    "    l_len = len(L)\n",
    "    r_len = len(R)\n",
    "    sorted_array = [0] * n\n",
    "    i = 0\n",
    "    while l < l_len and r < r_len:\n",
    "        if L[l] < R[r]:\n",
    "            sorted_array[i] = L[l]\n",
    "            l += 1\n",
    "            \n",
    "        else:\n",
    "            sorted_array[i] = R[r]\n",
    "            r += 1\n",
    "        i +=1\n",
    "    while l<l_len:\n",
    "         sorted_array[i] = L[l]\n",
    "         l += 1\n",
    "         i += 1\n",
    "        \n",
    "    while r<r_len:\n",
    "        sorted_array[i] = R[r]\n",
    "        r += 1\n",
    "        i += 1\n",
    "    return sorted_array\n",
    "\n",
    "mergesort(D)\n",
    "        \n",
    "        \n",
    "            "
   ]
  },
  {
   "cell_type": "markdown",
   "id": "c8becb5e",
   "metadata": {},
   "source": [
    "## QuickSort"
   ]
  },
  {
   "cell_type": "markdown",
   "id": "9db052ef",
   "metadata": {},
   "source": [
    "Quick Sort is a divide-and-conquer sorting algorithm that works by selecting a \"pivot\" element from the array and partitioning the remaining elements into two sub-arrays, according to whether they are less than or greater than the pivot. Here's a detailed explanation:\n",
    "\n",
    "How Quick Sort Works\n",
    "Choose a Pivot:\n",
    "\n",
    "You select an element from the array. The pivot can be chosen in various ways:\n",
    "First element\n",
    "Last element\n",
    "Middle element\n",
    "Random element\n",
    "The choice of pivot can affect performance.\n",
    "Partitioning:\n",
    "\n",
    "Objective: Rearrange the array so that all elements less than the pivot are on its left, and all elements greater than the pivot are on its right.\n",
    "\n",
    "Time Complexity\n",
    "Average Case:\n",
    "\n",
    "O(n log n)\n",
    "Explanation:\n",
    "On average, the partition step divides the array into two nearly equal halves.\n",
    "Each level of recursion processes all n elements (for partitioning).\n",
    "The number of levels in the recursion tree is approximately log n.\n",
    "Hence, total work is roughly n * log n.\n",
    "Best Case:\n",
    "\n",
    "O(n log n)\n",
    "When the pivot divides the list perfectly in half every time.\n",
    "Worst Case:\n",
    "\n",
    "O(n²)\n",
    "Explanation:\n",
    "Worst-case scenario occurs when the pivot is the smallest or largest element every time (e.g., when the array is already sorted, and you always pick the first or last element as the pivot).\n",
    "The recursion tree becomes very unbalanced with one sub-array of size n-1 and one of size 0 at each step.\n",
    "Summing up the comparisons leads to a quadratic number of comparisons.\n",
    "\n",
    "\n",
    "Space Complexity\n",
    "In-Place Sorting:\n",
    "\n",
    "Quick sort is generally considered an in-place sorting algorithm because it does not require extra storage proportional to the array size.\n",
    "Auxiliary Space:\n",
    "\n",
    "O(log n) in the average case:\n",
    "This space is used for the recursion stack. If the pivot divides the array evenly, the depth of recursion is O(log n).\n",
    "O(n) in the worst case:\n",
    "In the worst-case scenario (unbalanced partitions), the recursion depth can be O(n), which requires linear stack space.\n",
    "Tail Recursion Optimization:\n",
    "\n",
    "Some implementations of quick sort can optimize the recursion using tail call optimizations, further reducing stack usage.\n",
    "\n"
   ]
  },
  {
   "cell_type": "code",
   "execution_count": 6,
   "id": "b4e82cf9",
   "metadata": {},
   "outputs": [
    {
     "data": {
      "text/plain": [
       "[-5, -3, -3, 1, 2, 2, 2, 3, 7]"
      ]
     },
     "execution_count": 6,
     "metadata": {},
     "output_type": "execute_result"
    }
   ],
   "source": [
    "# Quick Sort\n",
    "# Time: O(n log n) (Average case, technically Worst case is O(n^2))\n",
    "# Space: O(n)\n",
    "\n",
    "E = [-5, 3, 2, 1, -3, -3, 7, 2, 2]\n",
    "def quicksort(arr):\n",
    "    n = len(arr)\n",
    "    if n <=1 :\n",
    "        return arr\n",
    "    p = arr[-1]\n",
    "    L = [x for x in arr[:-1] if x <=p]\n",
    "    R =[x for x in arr[:-1] if x > p]\n",
    "    L =quicksort(L)\n",
    "    R = quicksort(R)\n",
    "    return L + [p] + R\n",
    "quicksort(E)"
   ]
  },
  {
   "cell_type": "markdown",
   "id": "1259de40",
   "metadata": {},
   "source": [
    "## Counting Sort"
   ]
  },
  {
   "cell_type": "markdown",
   "id": "18704298",
   "metadata": {},
   "source": [
    "Counting Sort is a non-comparison-based sorting algorithm that works exceptionally well when the range of input values (i.e., the maximum value minus the minimum value) is not significantly greater than the number of items to be sorted. It is particularly useful for sorting integers or other discrete items.\n",
    "\n",
    "How Counting Sort Works\n",
    "Find the Range:\n",
    "\n",
    "First, determine the minimum and maximum values in the input array. This helps in establishing the size of the auxiliary \"count\" array.\n",
    "Initialize the Count Array:\n",
    "\n",
    "Create an array (often called count) with a length equal to the range of the input values plus one. Initialize all entries to zero.\n",
    "Each index in this array will correspond to an element in the input array (after appropriate offsetting if the minimum is not zero).\n",
    "Count Occurrences:\n",
    "\n",
    "Traverse the input array and for each element, increment the corresponding index in the count array. This step tallies the frequency of each value.\n",
    "Cumulative Sum (Optional but Common):\n",
    "\n",
    "Modify the count array by replacing each element with the sum of the previous counts. This cumulative sum helps in placing the elements into their correct sorted positions.\n",
    "Build the Sorted Array:\n",
    "\n",
    "Traverse the original array (often in reverse to maintain stability) and use the count array to place each element into a new output array.\n",
    "For each element, decrease its count by one and use that value as the index in the output array where the element should go.\n",
    "Copy Back (if needed):\n",
    "\n",
    "If the sorted result is required to be in the original array, copy the sorted elements from the output array back into the original array."
   ]
  },
  {
   "cell_type": "markdown",
   "id": "ed3d1495",
   "metadata": {},
   "source": [
    "Time Complexity\n",
    "Overall Time Complexity: O(n + k)\n",
    "Counting Occurrences: O(n), where n is the number of elements in the input array.\n",
    "Cumulative Sum: O(k), where k is the range of the input (i.e., the number of distinct integer values).\n",
    "Building the Sorted Array: O(n)\n",
    "So, the total time complexity becomes O(n + k).\n",
    "Best/Average/Worst Case: The algorithm always performs in O(n + k) time, regardless of the input's initial order.\n",
    "\n",
    "\n",
    "Space Complexity\n",
    "Auxiliary Space: O(n + k)\n",
    "Output Array: O(n) space is needed for the output array where the sorted elements are placed.\n",
    "Count Array: O(k) space is required for the count array.\n",
    "Therefore, the total additional space used is O(n + k"
   ]
  },
  {
   "cell_type": "code",
   "execution_count": 9,
   "id": "77715179",
   "metadata": {},
   "outputs": [
    {
     "data": {
      "text/plain": [
       "[1, 2, 2, 2, 3, 3, 3, 5, 7]"
      ]
     },
     "execution_count": 9,
     "metadata": {},
     "output_type": "execute_result"
    }
   ],
   "source": [
    "# Counting Sort\n",
    "# Time: O(n + k) where k is the range of data\n",
    "\n",
    "# Note - This can be written with negative arrays, but we'll stick to positive arrays,\n",
    "# so k is the max of the array\n",
    "\n",
    "# Space: O(k)\n",
    "\n",
    "###here we are considering positive value so we are not considering any range directly finding the max and solving\n",
    "F = [5, 3, 2, 1, 3, 3, 7, 2, 2]\n",
    "\n",
    "def countingsort(arr):\n",
    "    n = len(arr)\n",
    "    maxx= max(arr)\n",
    "    counts = [0] * (maxx + 1)\n",
    "    for x in arr:\n",
    "        counts[x] += 1\n",
    "    i = 0\n",
    "    for c in range(maxx + 1):\n",
    "        while counts[c] > 0 :\n",
    "            arr[i] = c\n",
    "            i += 1\n",
    "            counts[c] -= 1\n",
    "countingsort(F)\n",
    "F   "
   ]
  },
  {
   "cell_type": "code",
   "execution_count": 10,
   "id": "58c80181",
   "metadata": {},
   "outputs": [
    {
     "data": {
      "text/plain": [
       "[-5, -3, -3, 1, 2, 2, 2, 3, 7]"
      ]
     },
     "execution_count": 10,
     "metadata": {},
     "output_type": "execute_result"
    }
   ],
   "source": [
    "# What we usually do in practice\n",
    "\n",
    "# Time complexity is O(n log n) from using Tim Sort\n",
    "G = [-5, 3, 2, 1, -3, -3, 7, 2, 2]\n",
    "\n",
    "# In place (constant space)\n",
    "G.sort()\n",
    "\n",
    "G"
   ]
  },
  {
   "cell_type": "code",
   "execution_count": 11,
   "id": "faec4e75",
   "metadata": {},
   "outputs": [
    {
     "data": {
      "text/plain": [
       "([-5, 3, 2, 1, -3, -3, 7, 2, 2], [-5, -3, -3, 1, 2, 2, 2, 3, 7])"
      ]
     },
     "execution_count": 11,
     "metadata": {},
     "output_type": "execute_result"
    }
   ],
   "source": [
    "# Get new sorted array - O(n) space\n",
    "\n",
    "H = [-5, 3, 2, 1, -3, -3, 7, 2, 2]\n",
    "\n",
    "sorted_H = sorted(H)\n",
    "\n",
    "H, sorted_H"
   ]
  },
  {
   "cell_type": "code",
   "execution_count": 12,
   "id": "4896ca4a",
   "metadata": {},
   "outputs": [
    {
     "data": {
      "text/plain": [
       "[(-5, 3), (7, 2), (2, 2), (2, 1), (-3, -3)]"
      ]
     },
     "execution_count": 12,
     "metadata": {},
     "output_type": "execute_result"
    }
   ],
   "source": [
    "# Sort array of tuples\n",
    "\n",
    "I = [(-5, 3), (2, 1), (-3, -3), (7, 2), (2, 2)]\n",
    "\n",
    "sorted_I = sorted(I, key = lambda t: -t[1])###in reverse\n",
    "\n",
    "sorted_I"
   ]
  },
  {
   "cell_type": "code",
   "execution_count": 13,
   "id": "65f19d0e",
   "metadata": {},
   "outputs": [
    {
     "data": {
      "text/plain": [
       "[(-3, -3), (2, 1), (7, 2), (2, 2), (-5, 3)]"
      ]
     },
     "execution_count": 13,
     "metadata": {},
     "output_type": "execute_result"
    }
   ],
   "source": [
    "# Sort array of tuples\n",
    "\n",
    "I = [(-5, 3), (2, 1), (-3, -3), (7, 2), (2, 2)]\n",
    "\n",
    "sorted_I = sorted(I, key = lambda t: t[1])\n",
    "\n",
    "sorted_I"
   ]
  },
  {
   "cell_type": "code",
   "execution_count": 14,
   "id": "7bb23986",
   "metadata": {},
   "outputs": [
    {
     "data": {
      "text/plain": [
       "[(-5, 3), (-3, -3), (2, 1), (2, 2), (7, 2)]"
      ]
     },
     "execution_count": 14,
     "metadata": {},
     "output_type": "execute_result"
    }
   ],
   "source": [
    "# Sort array of tuples\n",
    "\n",
    "I = [(-5, 3), (2, 1), (-3, -3), (7, 2), (2, 2)]\n",
    "\n",
    "sorted_I = sorted(I, key = lambda t: t[0])\n",
    "##sorting using first value as key\n",
    "sorted_I"
   ]
  },
  {
   "cell_type": "code",
   "execution_count": null,
   "id": "22aa2d80",
   "metadata": {},
   "outputs": [],
   "source": []
  }
 ],
 "metadata": {
  "kernelspec": {
   "display_name": "Python 3 (ipykernel)",
   "language": "python",
   "name": "python3"
  },
  "language_info": {
   "codemirror_mode": {
    "name": "ipython",
    "version": 3
   },
   "file_extension": ".py",
   "mimetype": "text/x-python",
   "name": "python",
   "nbconvert_exporter": "python",
   "pygments_lexer": "ipython3",
   "version": "3.9.7"
  }
 },
 "nbformat": 4,
 "nbformat_minor": 5
}
